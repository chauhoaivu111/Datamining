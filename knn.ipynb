{
 "cells": [
  {
   "cell_type": "markdown",
   "metadata": {},
   "source": [
    "# Topic : Fertilizer Prediction"
   ]
  },
  {
   "cell_type": "markdown",
   "metadata": {},
   "source": [
    "objective: improve crop yields through the right fertilization methods for each type of plant using the collected data"
   ]
  },
  {
   "cell_type": "markdown",
   "metadata": {},
   "source": [
    "\n",
    "\n",
    "1.collecting the data\n",
    "\n",
    "2.Preprocessing the data\n",
    "\n",
    "3.Visualization\n",
    "\n",
    "4.Splitting the dataset(training and testing data)\n",
    "\n",
    "5.Predicting the data\n",
    "\n"
   ]
  },
  {
   "cell_type": "markdown",
   "metadata": {},
   "source": [
    "1.collecting the data"
   ]
  },
  {
   "cell_type": "code",
   "execution_count": null,
   "metadata": {},
   "outputs": [],
   "source": [
    "# import all necessary libraries\n",
    "import numpy as np\n",
    "import pandas as pd\n",
    "import matplotlib.pyplot as plt\n",
    "import seaborn as sns\n",
    "import warnings\n",
    "warnings.filterwarnings(\"ignore\")\n",
    "%matplotlib inline\n",
    "# importing label encoder for converting categorical \n",
    "from sklearn.preprocessing import LabelEncoder"
   ]
  },
  {
   "cell_type": "code",
   "execution_count": null,
   "metadata": {},
   "outputs": [],
   "source": [
    "# reading the data\n",
    "df=pd.read_csv(\"FertilizerPrediction.csv\")\n",
    "df"
   ]
  },
  {
   "cell_type": "markdown",
   "metadata": {},
   "source": [
    "2.Preprocessing the data"
   ]
  },
  {
   "cell_type": "code",
   "execution_count": null,
   "metadata": {},
   "outputs": [],
   "source": [
    "# check for categorical attributes\n",
    "cat_col = []\n",
    "for x in df.dtypes.index:\n",
    "    if df.dtypes[x] == 'object':\n",
    "        cat_col.append(x)\n",
    "cat_col"
   ]
  },
  {
   "cell_type": "code",
   "execution_count": null,
   "metadata": {},
   "outputs": [],
   "source": [
    "df.isnull().sum()\n",
    "#gives summ of all the null values present in the every column"
   ]
  },
  {
   "cell_type": "code",
   "execution_count": null,
   "metadata": {},
   "outputs": [],
   "source": [
    "#encoding Soil Type variable\n",
    "encode_soil = LabelEncoder()\n",
    "df['Soil Type'] = encode_soil.fit_transform(df['Soil Type'])\n",
    "\n",
    "#creating the DataFrame\n",
    "Soil_Type = pd.DataFrame(zip(encode_soil.classes_,encode_soil.transform(encode_soil.classes_)),columns=['Original','Encoded'])\n",
    "Soil_Type = Soil_Type.set_index('Original')\n",
    "Soil_Type"
   ]
  },
  {
   "cell_type": "code",
   "execution_count": null,
   "metadata": {},
   "outputs": [],
   "source": [
    "# encoding the crop type variables\n",
    "encode_crop =  LabelEncoder()\n",
    "df['Crop Type'] = encode_crop.fit_transform(df['Crop Type'])\n",
    "\n",
    "#creating the DataFrame\n",
    "Crop_Type = pd.DataFrame(zip(encode_crop.classes_,encode_crop.transform(encode_crop.classes_)),columns=['Original','Encoded'])\n",
    "Crop_Type = Crop_Type.set_index('Original')\n",
    "Crop_Type"
   ]
  },
  {
   "cell_type": "code",
   "execution_count": null,
   "metadata": {},
   "outputs": [],
   "source": [
    "# encoding fertilizer name type variable\n",
    "encode_ferti = LabelEncoder()\n",
    "df['Fertilizer Name'] = encode_ferti.fit_transform(df['Fertilizer Name'])\n",
    "\n",
    "#creating the DataFrame\n",
    "Fertilizer = pd.DataFrame(zip(encode_ferti.classes_,encode_ferti.transform(encode_ferti.classes_)),columns=['Original','Encoded'])\n",
    "Fertilizer = Fertilizer.set_index('Original')\n",
    "Fertilizer"
   ]
  },
  {
   "cell_type": "code",
   "execution_count": null,
   "metadata": {},
   "outputs": [],
   "source": [
    "df"
   ]
  },
  {
   "cell_type": "code",
   "execution_count": null,
   "metadata": {},
   "outputs": [],
   "source": [
    "#find max and min of each colume \n",
    "for column in df.columns:\n",
    "    if column != 'Fertilizer Name':  \n",
    "        min_val = df[column].min()\n",
    "        max_val = df[column].max()\n",
    "        print(f\"Column: {column}, Min: {min_val}, Max: {max_val}\")"
   ]
  },
  {
   "cell_type": "markdown",
   "metadata": {},
   "source": [
    "4.Visualization"
   ]
  },
  {
   "cell_type": "code",
   "execution_count": null,
   "metadata": {},
   "outputs": [],
   "source": [
    "# it shows the count of each soil type \n",
    "plt.figure(figsize=(10,5))\n",
    "sns.countplot(x='Soil Type', data = df)"
   ]
  },
  {
   "cell_type": "code",
   "execution_count": null,
   "metadata": {},
   "outputs": [],
   "source": [
    "#it show the count of each crop type\n",
    "plt.figure(figsize=(10,8))\n",
    "sns.countplot(x='Crop Type', data = df)"
   ]
  },
  {
   "cell_type": "code",
   "execution_count": null,
   "metadata": {},
   "outputs": [],
   "source": [
    "plt.figure(figsize=(8,5))\n",
    "sns.countplot(x='Fertilizer Name', data = df)"
   ]
  },
  {
   "cell_type": "markdown",
   "metadata": {},
   "source": [
    "5.Splitting the dataset(training and testing data)"
   ]
  },
  {
   "cell_type": "code",
   "execution_count": null,
   "metadata": {},
   "outputs": [],
   "source": [
    "#importing train_test_split to create validation test\n",
    "from sklearn.model_selection import train_test_split\n",
    "x=df.drop([\"Fertilizer Name\"],axis=1)\n",
    "y=df[\"Fertilizer Name\"]\n",
    "#split the dataset into trainset and testset\n",
    "x_train,x_test,y_train,y_test=train_test_split(x,y,random_state=0,test_size=0.2)"
   ]
  },
  {
   "cell_type": "code",
   "execution_count": null,
   "metadata": {},
   "outputs": [],
   "source": [
    "print(x_test)"
   ]
  },
  {
   "cell_type": "code",
   "execution_count": null,
   "metadata": {},
   "outputs": [],
   "source": [
    "# Feature Scaling\n",
    "from sklearn.neighbors import KNeighborsClassifier\n",
    "classifier = KNeighborsClassifier(n_neighbors=8)\n",
    "classifier.fit(x_train, y_train)"
   ]
  },
  {
   "cell_type": "code",
   "execution_count": null,
   "metadata": {},
   "outputs": [],
   "source": [
    "\n",
    "y_pred=classifier.predict(x_test)\n",
    "print(y_test)\n",
    "print(y_pred)"
   ]
  },
  {
   "cell_type": "code",
   "execution_count": null,
   "metadata": {},
   "outputs": [],
   "source": [
    "# Calculating the Accuracy\n",
    "from sklearn import metrics\n",
    "y_pred=classifier.predict(x_test)\n",
    "print(\"accuracy:\",metrics.accuracy_score(y_test,y_pred))"
   ]
  },
  {
   "cell_type": "code",
   "execution_count": null,
   "metadata": {},
   "outputs": [],
   "source": [
    "from sklearn import metrics\n",
    "from sklearn import tree\n",
    "from sklearn.tree import DecisionTreeClassifier\n",
    "clf = DecisionTreeClassifier(criterion = 'entropy', random_state = 0)\n",
    "clf.fit(x_train, y_train)"
   ]
  },
  {
   "cell_type": "code",
   "execution_count": null,
   "metadata": {},
   "outputs": [],
   "source": [
    "y_pred=clf.predict(x_test)\n",
    "print(\"accuracy:\",metrics.accuracy_score(y_test,y_pred))"
   ]
  },
  {
   "cell_type": "code",
   "execution_count": null,
   "metadata": {},
   "outputs": [],
   "source": [
    "a=float(input(\"enter temparature value:\"))\n",
    "b=float(input(\"enter Humidity value:\"))\n",
    "c=float(input(\"enter Moisture value:\"))\n",
    "d=int(input(\"enter soil type value:\"))\n",
    "e=int(input(\"enter Crop type value:\"))\n",
    "f=float(input(\"enter Nitrogen value:\"))\n",
    "g=float(input(\"enter Potassium value:\"))\n",
    "h=float(input(\"enter Phoshporous value:\"))\n",
    "ans=classifier.predict([[a,b,c,d,e,f,g,h]])\n",
    "if(((a>=20)&(a<=40)) & ((b>40)&(b<70)) & ((c>=20)&(c<=70)) & ((d>=0)&(d<=4)) & ((e>=0)&(e<=10)) & ((f>=0)&(f<=50)) & ((g>=0)&(g<=20)) & \n",
    "    ((h>=0)&(h<=50))):\n",
    "    if ans[0] == 0:\n",
    "        print(\"Use 10-26-26 fertilizer\")\n",
    "    elif ans[0] ==1:\n",
    "        print(\"Use 14-35-14 fertilizer\")\n",
    "    elif ans[0] == 2:\n",
    "        print(\"Use 17-17-17 fertilizer\")\n",
    "    elif ans[0] == 3:\n",
    "        print(\"Use 20-20 fertilizer\")\n",
    "    elif ans[0] == 4:\n",
    "        print(\"Use 28-28 fertilizer\")\n",
    "    elif ans[0]==5:\n",
    "        print(\"Use DAP fertilizer\")\n",
    "    elif ans[0]==6:\n",
    "        print(\"Use Urea fertilizer\")\n",
    "else:\n",
    "    print(\"invalid input\")\n",
    "\n",
    "    #  30         60        42          4          4        21      0           18"
   ]
  },
  {
   "cell_type": "code",
   "execution_count": null,
   "metadata": {},
   "outputs": [],
   "source": [
    "a=float(input(\"enter temparature value:\"))\n",
    "b=float(input(\"enter Humidity value:\"))\n",
    "c=float(input(\"enter Moisture value:\"))\n",
    "d=int(input(\"enter soil type value:\"))\n",
    "e=int(input(\"enter Crop type value:\"))\n",
    "f=float(input(\"enter Nitrogen value:\"))\n",
    "g=float(input(\"enter Potassium value:\"))\n",
    "h=float(input(\"enter Phoshporous value:\"))\n",
    "ans=clf.predict([[a,b,c,d,e,f,g,h]])\n",
    "if(((a>=20)&(a<=40)) & ((b>40)&(b<70)) & ((c>=20)&(c<=70)) & ((d>=0)&(d<=4)) & ((e>=0)&(e<=10)) & ((f>=0)&(f<=50)) & ((g>=0)&(g<=20)) & \n",
    "    ((h>=0)&(h<=50))):\n",
    "\n",
    "    if ans[0] == 0:\n",
    "        print(\"Use 10-26-26 fertilizer\")\n",
    "    elif ans[0] ==1:\n",
    "        print(\"Use 14-35-14 fertilizer\")\n",
    "    elif ans[0] == 2:\n",
    "        print(\"Use 17-17-17 fertilizer\")\n",
    "    elif ans[0] == 3:\n",
    "        print(\"Use 20-20 fertilizer\")\n",
    "    elif ans[0] == 4:\n",
    "        print(\"Use 28-28 fertilizer\")\n",
    "    elif ans[0]==5:\n",
    "        print(\"Use DAP fertilizer\")\n",
    "    elif ans[0]==6:\n",
    "        print(\"Use Urea fertilizer\")\n",
    "else:\n",
    "    print(\"invalid input\")\n",
    "print(ans)"
   ]
  },
  {
   "cell_type": "markdown",
   "metadata": {},
   "source": [
    "# Conclusion"
   ]
  },
  {
   "cell_type": "markdown",
   "metadata": {},
   "source": [
    "Through the provided data, KNN can give some recommendations for farmers to find the best fertilizer for plants, thereby helping to reduce costs and increase profits."
   ]
  }
 ],
 "metadata": {
  "kernelspec": {
   "display_name": "Python 3",
   "language": "python",
   "name": "python3"
  },
  "language_info": {
   "codemirror_mode": {
    "name": "ipython",
    "version": 3
   },
   "file_extension": ".py",
   "mimetype": "text/x-python",
   "name": "python",
   "nbconvert_exporter": "python",
   "pygments_lexer": "ipython3",
   "version": "3.8.10"
  },
  "orig_nbformat": 4
 },
 "nbformat": 4,
 "nbformat_minor": 2
}
